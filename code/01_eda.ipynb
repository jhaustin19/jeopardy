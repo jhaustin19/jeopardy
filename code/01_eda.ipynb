{
 "cells": [
  {
   "cell_type": "markdown",
   "metadata": {},
   "source": [
    "# Data analysis"
   ]
  },
  {
   "cell_type": "markdown",
   "metadata": {},
   "source": [
    "Now that we have a clean dataframe, I'm going to do some EDA."
   ]
  },
  {
   "cell_type": "markdown",
   "metadata": {},
   "source": [
    "## Importing libraries"
   ]
  },
  {
   "cell_type": "code",
   "execution_count": 1,
   "metadata": {},
   "outputs": [],
   "source": [
    "import pandas as pd\n",
    "import seaborn as sns"
   ]
  },
  {
   "cell_type": "markdown",
   "metadata": {},
   "source": [
    "## Loading the data"
   ]
  },
  {
   "cell_type": "code",
   "execution_count": 2,
   "metadata": {},
   "outputs": [],
   "source": [
    "df = pd.read_csv('../data/clean.csv')"
   ]
  },
  {
   "cell_type": "code",
   "execution_count": 3,
   "metadata": {},
   "outputs": [
    {
     "data": {
      "text/html": [
       "<div>\n",
       "<style scoped>\n",
       "    .dataframe tbody tr th:only-of-type {\n",
       "        vertical-align: middle;\n",
       "    }\n",
       "\n",
       "    .dataframe tbody tr th {\n",
       "        vertical-align: top;\n",
       "    }\n",
       "\n",
       "    .dataframe thead th {\n",
       "        text-align: right;\n",
       "    }\n",
       "</style>\n",
       "<table border=\"1\" class=\"dataframe\">\n",
       "  <thead>\n",
       "    <tr style=\"text-align: right;\">\n",
       "      <th></th>\n",
       "      <th>round</th>\n",
       "      <th>value</th>\n",
       "      <th>category</th>\n",
       "      <th>clue</th>\n",
       "      <th>correct_response</th>\n",
       "      <th>air_date</th>\n",
       "      <th>is_daily_double</th>\n",
       "      <th>host_commented</th>\n",
       "      <th>is_irregular_value</th>\n",
       "      <th>is_common_category</th>\n",
       "    </tr>\n",
       "  </thead>\n",
       "  <tbody>\n",
       "    <tr>\n",
       "      <th>0</th>\n",
       "      <td>1</td>\n",
       "      <td>200</td>\n",
       "      <td>SUDDENLY SUDAN</td>\n",
       "      <td>From 1899 to 1956 Sudan was controlled by Egyp...</td>\n",
       "      <td>England (Great Britain)</td>\n",
       "      <td>2001-11-26</td>\n",
       "      <td>0</td>\n",
       "      <td>0</td>\n",
       "      <td>0</td>\n",
       "      <td>0</td>\n",
       "    </tr>\n",
       "    <tr>\n",
       "      <th>1</th>\n",
       "      <td>1</td>\n",
       "      <td>400</td>\n",
       "      <td>SUDDENLY SUDAN</td>\n",
       "      <td>In 1995 this former U.S. president oversaw a c...</td>\n",
       "      <td>Jimmy Carter</td>\n",
       "      <td>2001-11-26</td>\n",
       "      <td>0</td>\n",
       "      <td>0</td>\n",
       "      <td>0</td>\n",
       "      <td>0</td>\n",
       "    </tr>\n",
       "    <tr>\n",
       "      <th>2</th>\n",
       "      <td>1</td>\n",
       "      <td>600</td>\n",
       "      <td>SUDDENLY SUDAN</td>\n",
       "      <td>The Atbarah River joins this river in northern...</td>\n",
       "      <td>the Nile</td>\n",
       "      <td>2001-11-26</td>\n",
       "      <td>0</td>\n",
       "      <td>0</td>\n",
       "      <td>0</td>\n",
       "      <td>0</td>\n",
       "    </tr>\n",
       "    <tr>\n",
       "      <th>3</th>\n",
       "      <td>1</td>\n",
       "      <td>800</td>\n",
       "      <td>SUDDENLY SUDAN</td>\n",
       "      <td>This Sudanese city of about 1 million was foun...</td>\n",
       "      <td>Khartoum</td>\n",
       "      <td>2001-11-26</td>\n",
       "      <td>0</td>\n",
       "      <td>0</td>\n",
       "      <td>0</td>\n",
       "      <td>0</td>\n",
       "    </tr>\n",
       "    <tr>\n",
       "      <th>4</th>\n",
       "      <td>1</td>\n",
       "      <td>1400</td>\n",
       "      <td>SUDDENLY SUDAN</td>\n",
       "      <td>Handling most of the country's foreign trade, ...</td>\n",
       "      <td>the Red Sea</td>\n",
       "      <td>2001-11-26</td>\n",
       "      <td>1</td>\n",
       "      <td>0</td>\n",
       "      <td>1</td>\n",
       "      <td>0</td>\n",
       "    </tr>\n",
       "  </tbody>\n",
       "</table>\n",
       "</div>"
      ],
      "text/plain": [
       "   round  value        category  \\\n",
       "0      1    200  SUDDENLY SUDAN   \n",
       "1      1    400  SUDDENLY SUDAN   \n",
       "2      1    600  SUDDENLY SUDAN   \n",
       "3      1    800  SUDDENLY SUDAN   \n",
       "4      1   1400  SUDDENLY SUDAN   \n",
       "\n",
       "                                                clue         correct_response  \\\n",
       "0  From 1899 to 1956 Sudan was controlled by Egyp...  England (Great Britain)   \n",
       "1  In 1995 this former U.S. president oversaw a c...             Jimmy Carter   \n",
       "2  The Atbarah River joins this river in northern...                 the Nile   \n",
       "3  This Sudanese city of about 1 million was foun...                 Khartoum   \n",
       "4  Handling most of the country's foreign trade, ...              the Red Sea   \n",
       "\n",
       "     air_date  is_daily_double  host_commented  is_irregular_value  \\\n",
       "0  2001-11-26                0               0                   0   \n",
       "1  2001-11-26                0               0                   0   \n",
       "2  2001-11-26                0               0                   0   \n",
       "3  2001-11-26                0               0                   0   \n",
       "4  2001-11-26                1               0                   1   \n",
       "\n",
       "   is_common_category  \n",
       "0                   0  \n",
       "1                   0  \n",
       "2                   0  \n",
       "3                   0  \n",
       "4                   0  "
      ]
     },
     "execution_count": 3,
     "metadata": {},
     "output_type": "execute_result"
    }
   ],
   "source": [
    "df.head()"
   ]
  },
  {
   "cell_type": "code",
   "execution_count": 4,
   "metadata": {},
   "outputs": [
    {
     "data": {
      "text/plain": [
       "(174872, 10)"
      ]
     },
     "execution_count": 4,
     "metadata": {},
     "output_type": "execute_result"
    }
   ],
   "source": [
    "df.shape"
   ]
  },
  {
   "cell_type": "markdown",
   "metadata": {},
   "source": [
    "## EDA"
   ]
  },
  {
   "cell_type": "markdown",
   "metadata": {},
   "source": [
    "#### What proportion of clues are daily doubles?"
   ]
  },
  {
   "cell_type": "code",
   "execution_count": 5,
   "metadata": {},
   "outputs": [
    {
     "data": {
      "text/plain": [
       "0.05202662518870946"
      ]
     },
     "execution_count": 5,
     "metadata": {},
     "output_type": "execute_result"
    }
   ],
   "source": [
    "df[df['is_daily_double'] == 1].shape[0] / df.shape[0]"
   ]
  },
  {
   "cell_type": "markdown",
   "metadata": {},
   "source": [
    "#### How many daily doubles are there by round?"
   ]
  },
  {
   "cell_type": "code",
   "execution_count": 6,
   "metadata": {},
   "outputs": [
    {
     "data": {
      "text/plain": [
       "round\n",
       "1    3064\n",
       "2    6034\n",
       "Name: is_daily_double, dtype: int64"
      ]
     },
     "execution_count": 6,
     "metadata": {},
     "output_type": "execute_result"
    }
   ],
   "source": [
    "df.groupby('round')['is_daily_double'].sum()"
   ]
  },
  {
   "cell_type": "markdown",
   "metadata": {},
   "source": [
    "#### Which features are most correlated with daily doubles?"
   ]
  },
  {
   "cell_type": "code",
   "execution_count": 7,
   "metadata": {},
   "outputs": [
    {
     "data": {
      "image/png": "[encoded data removed]",
      "text/plain": [
       "<Figure size 432x288 with 2 Axes>"
      ]
     },
     "metadata": {
      "needs_background": "light"
     },
     "output_type": "display_data"
    }
   ],
   "source": [
    "sns.heatmap(df.corr()[['is_daily_double']].sort_values(by='is_daily_double', ascending=False),\n",
    "            annot=True,\n",
    "            cmap='coolwarm',\n",
    "            vmin=-1);"
   ]
  }
 ],
 "metadata": {
  "kernelspec": {
   "display_name": "Python 3",
   "language": "python",
   "name": "python3"
  },
  "language_info": {
   "codemirror_mode": {
    "name": "ipython",
    "version": 3
   },
   "file_extension": ".py",
   "mimetype": "text/x-python",
   "name": "python",
   "nbconvert_exporter": "python",
   "pygments_lexer": "ipython3",
   "version": "3.7.6"
  }
 },
 "nbformat": 4,
 "nbformat_minor": 4
}
