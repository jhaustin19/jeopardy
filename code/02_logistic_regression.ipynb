{
 "cells": [
  {
   "cell_type": "markdown",
   "metadata": {},
   "source": [
    "# Logistic regression"
   ]
  },
  {
   "cell_type": "markdown",
   "metadata": {},
   "source": [
    "## Importing libraries"
   ]
  },
  {
   "cell_type": "code",
   "execution_count": 1,
   "metadata": {},
   "outputs": [],
   "source": [
    "import pandas as pd\n",
    "\n",
    "from sklearn.linear_model import LogisticRegression\n",
    "from sklearn.metrics import plot_confusion_matrix\n",
    "from sklearn.model_selection import train_test_split"
   ]
  },
  {
   "cell_type": "markdown",
   "metadata": {},
   "source": [
    "## Loading the data"
   ]
  },
  {
   "cell_type": "code",
   "execution_count": 2,
   "metadata": {},
   "outputs": [],
   "source": [
    "df = pd.read_csv('../data/clean.csv')"
   ]
  },
  {
   "cell_type": "code",
   "execution_count": 3,
   "metadata": {},
   "outputs": [
    {
     "data": {
      "text/html": [
       "<div>\n",
       "<style scoped>\n",
       "    .dataframe tbody tr th:only-of-type {\n",
       "        vertical-align: middle;\n",
       "    }\n",
       "\n",
       "    .dataframe tbody tr th {\n",
       "        vertical-align: top;\n",
       "    }\n",
       "\n",
       "    .dataframe thead th {\n",
       "        text-align: right;\n",
       "    }\n",
       "</style>\n",
       "<table border=\"1\" class=\"dataframe\">\n",
       "  <thead>\n",
       "    <tr style=\"text-align: right;\">\n",
       "      <th></th>\n",
       "      <th>round</th>\n",
       "      <th>value</th>\n",
       "      <th>category</th>\n",
       "      <th>clue</th>\n",
       "      <th>correct_response</th>\n",
       "      <th>air_date</th>\n",
       "      <th>is_daily_double</th>\n",
       "      <th>host_commented</th>\n",
       "      <th>is_irregular_value</th>\n",
       "      <th>is_common_category</th>\n",
       "    </tr>\n",
       "  </thead>\n",
       "  <tbody>\n",
       "    <tr>\n",
       "      <th>0</th>\n",
       "      <td>1</td>\n",
       "      <td>200</td>\n",
       "      <td>SUDDENLY SUDAN</td>\n",
       "      <td>From 1899 to 1956 Sudan was controlled by Egyp...</td>\n",
       "      <td>England (Great Britain)</td>\n",
       "      <td>2001-11-26</td>\n",
       "      <td>0</td>\n",
       "      <td>0</td>\n",
       "      <td>0</td>\n",
       "      <td>0</td>\n",
       "    </tr>\n",
       "    <tr>\n",
       "      <th>1</th>\n",
       "      <td>1</td>\n",
       "      <td>400</td>\n",
       "      <td>SUDDENLY SUDAN</td>\n",
       "      <td>In 1995 this former U.S. president oversaw a c...</td>\n",
       "      <td>Jimmy Carter</td>\n",
       "      <td>2001-11-26</td>\n",
       "      <td>0</td>\n",
       "      <td>0</td>\n",
       "      <td>0</td>\n",
       "      <td>0</td>\n",
       "    </tr>\n",
       "    <tr>\n",
       "      <th>2</th>\n",
       "      <td>1</td>\n",
       "      <td>600</td>\n",
       "      <td>SUDDENLY SUDAN</td>\n",
       "      <td>The Atbarah River joins this river in northern...</td>\n",
       "      <td>the Nile</td>\n",
       "      <td>2001-11-26</td>\n",
       "      <td>0</td>\n",
       "      <td>0</td>\n",
       "      <td>0</td>\n",
       "      <td>0</td>\n",
       "    </tr>\n",
       "    <tr>\n",
       "      <th>3</th>\n",
       "      <td>1</td>\n",
       "      <td>800</td>\n",
       "      <td>SUDDENLY SUDAN</td>\n",
       "      <td>This Sudanese city of about 1 million was foun...</td>\n",
       "      <td>Khartoum</td>\n",
       "      <td>2001-11-26</td>\n",
       "      <td>0</td>\n",
       "      <td>0</td>\n",
       "      <td>0</td>\n",
       "      <td>0</td>\n",
       "    </tr>\n",
       "    <tr>\n",
       "      <th>4</th>\n",
       "      <td>1</td>\n",
       "      <td>1400</td>\n",
       "      <td>SUDDENLY SUDAN</td>\n",
       "      <td>Handling most of the country's foreign trade, ...</td>\n",
       "      <td>the Red Sea</td>\n",
       "      <td>2001-11-26</td>\n",
       "      <td>1</td>\n",
       "      <td>0</td>\n",
       "      <td>1</td>\n",
       "      <td>0</td>\n",
       "    </tr>\n",
       "  </tbody>\n",
       "</table>\n",
       "</div>"
      ],
      "text/plain": [
       "   round  value        category  \\\n",
       "0      1    200  SUDDENLY SUDAN   \n",
       "1      1    400  SUDDENLY SUDAN   \n",
       "2      1    600  SUDDENLY SUDAN   \n",
       "3      1    800  SUDDENLY SUDAN   \n",
       "4      1   1400  SUDDENLY SUDAN   \n",
       "\n",
       "                                                clue         correct_response  \\\n",
       "0  From 1899 to 1956 Sudan was controlled by Egyp...  England (Great Britain)   \n",
       "1  In 1995 this former U.S. president oversaw a c...             Jimmy Carter   \n",
       "2  The Atbarah River joins this river in northern...                 the Nile   \n",
       "3  This Sudanese city of about 1 million was foun...                 Khartoum   \n",
       "4  Handling most of the country's foreign trade, ...              the Red Sea   \n",
       "\n",
       "     air_date  is_daily_double  host_commented  is_irregular_value  \\\n",
       "0  2001-11-26                0               0                   0   \n",
       "1  2001-11-26                0               0                   0   \n",
       "2  2001-11-26                0               0                   0   \n",
       "3  2001-11-26                0               0                   0   \n",
       "4  2001-11-26                1               0                   1   \n",
       "\n",
       "   is_common_category  \n",
       "0                   0  \n",
       "1                   0  \n",
       "2                   0  \n",
       "3                   0  \n",
       "4                   0  "
      ]
     },
     "execution_count": 3,
     "metadata": {},
     "output_type": "execute_result"
    }
   ],
   "source": [
    "df.head()"
   ]
  },
  {
   "cell_type": "code",
   "execution_count": 4,
   "metadata": {},
   "outputs": [
    {
     "data": {
      "text/plain": [
       "(174872, 10)"
      ]
     },
     "execution_count": 4,
     "metadata": {},
     "output_type": "execute_result"
    }
   ],
   "source": [
    "df.shape"
   ]
  },
  {
   "cell_type": "markdown",
   "metadata": {},
   "source": [
    "## Train/test split"
   ]
  },
  {
   "cell_type": "code",
   "execution_count": 5,
   "metadata": {},
   "outputs": [],
   "source": [
    "features = ['round', 'value', 'host_commented', 'is_irregular_value', 'is_common_category']\n",
    "\n",
    "X = df[features]\n",
    "y = df['is_daily_double']\n",
    "\n",
    "X_train, X_test, y_train, y_test = train_test_split(X, y, stratify=y)"
   ]
  },
  {
   "cell_type": "markdown",
   "metadata": {},
   "source": [
    "## Fitting a model"
   ]
  },
  {
   "cell_type": "code",
   "execution_count": 6,
   "metadata": {},
   "outputs": [],
   "source": [
    "logreg = LogisticRegression(solver='liblinear')"
   ]
  },
  {
   "cell_type": "code",
   "execution_count": 7,
   "metadata": {},
   "outputs": [
    {
     "data": {
      "text/plain": [
       "LogisticRegression(C=1.0, class_weight=None, dual=False, fit_intercept=True,\n",
       "                   intercept_scaling=1, l1_ratio=None, max_iter=100,\n",
       "                   multi_class='auto', n_jobs=None, penalty='l2',\n",
       "                   random_state=None, solver='liblinear', tol=0.0001, verbose=0,\n",
       "                   warm_start=False)"
      ]
     },
     "execution_count": 7,
     "metadata": {},
     "output_type": "execute_result"
    }
   ],
   "source": [
    "logreg.fit(X_train, y_train)"
   ]
  },
  {
   "cell_type": "code",
   "execution_count": 8,
   "metadata": {},
   "outputs": [
    {
     "name": "stdout",
     "output_type": "stream",
     "text": [
      "Train score: 0.9736416731475975\n",
      "Test score: 0.9733519374170823\n",
      "Baseline accuracy: 0.9479733748112905\n"
     ]
    }
   ],
   "source": [
    "print('Train score:', logreg.score(X_train, y_train))\n",
    "print('Test score:', logreg.score(X_test, y_test))\n",
    "print('Baseline accuracy:', 1 - y.mean())"
   ]
  },
  {
   "cell_type": "markdown",
   "metadata": {},
   "source": [
    "## What was the model most likely to get wrong?"
   ]
  },
  {
   "cell_type": "code",
   "execution_count": 9,
   "metadata": {},
   "outputs": [
    {
     "data": {
      "image/png": "[encoded data removed]",
      "text/plain": [
       "<Figure size 432x288 with 2 Axes>"
      ]
     },
     "metadata": {
      "needs_background": "light"
     },
     "output_type": "display_data"
    }
   ],
   "source": [
    "plot_confusion_matrix(logreg, X_test, y_test, normalize='all', cmap='Blues');"
   ]
  },
  {
   "cell_type": "markdown",
   "metadata": {},
   "source": [
    "## Which clues did the model mislassify as not being daily doubles?"
   ]
  },
  {
   "cell_type": "code",
   "execution_count": 17,
   "metadata": {},
   "outputs": [],
   "source": [
    "df['pred_is_daily_double'] = logreg.predict(X)"
   ]
  },
  {
   "cell_type": "code",
   "execution_count": 18,
   "metadata": {},
   "outputs": [
    {
     "data": {
      "text/html": [
       "<div>\n",
       "<style scoped>\n",
       "    .dataframe tbody tr th:only-of-type {\n",
       "        vertical-align: middle;\n",
       "    }\n",
       "\n",
       "    .dataframe tbody tr th {\n",
       "        vertical-align: top;\n",
       "    }\n",
       "\n",
       "    .dataframe thead th {\n",
       "        text-align: right;\n",
       "    }\n",
       "</style>\n",
       "<table border=\"1\" class=\"dataframe\">\n",
       "  <thead>\n",
       "    <tr style=\"text-align: right;\">\n",
       "      <th></th>\n",
       "      <th>round</th>\n",
       "      <th>value</th>\n",
       "      <th>category</th>\n",
       "      <th>clue</th>\n",
       "      <th>correct_response</th>\n",
       "      <th>air_date</th>\n",
       "      <th>is_daily_double</th>\n",
       "      <th>host_commented</th>\n",
       "      <th>is_irregular_value</th>\n",
       "      <th>is_common_category</th>\n",
       "      <th>pred_is_daily_double</th>\n",
       "    </tr>\n",
       "  </thead>\n",
       "  <tbody>\n",
       "    <tr>\n",
       "      <th>31</th>\n",
       "      <td>2</td>\n",
       "      <td>2000</td>\n",
       "      <td>CLASSICAL MUSIC</td>\n",
       "      <td>This Leoncavallo opera of 1892 has a Commedia ...</td>\n",
       "      <td>Pagliacci</td>\n",
       "      <td>2001-11-26</td>\n",
       "      <td>1</td>\n",
       "      <td>0</td>\n",
       "      <td>0</td>\n",
       "      <td>1</td>\n",
       "      <td>0</td>\n",
       "    </tr>\n",
       "    <tr>\n",
       "      <th>60</th>\n",
       "      <td>1</td>\n",
       "      <td>1000</td>\n",
       "      <td>THE SANDBOX</td>\n",
       "      <td>This American won 2 Pulitzer Prizes: one for h...</td>\n",
       "      <td>Carl Sandburg</td>\n",
       "      <td>2001-11-27</td>\n",
       "      <td>1</td>\n",
       "      <td>0</td>\n",
       "      <td>0</td>\n",
       "      <td>0</td>\n",
       "      <td>0</td>\n",
       "    </tr>\n",
       "    <tr>\n",
       "      <th>96</th>\n",
       "      <td>2</td>\n",
       "      <td>2000</td>\n",
       "      <td>SEA CREATURES</td>\n",
       "      <td>The 2 body parts the term cephalopod refers to</td>\n",
       "      <td>head &amp; foot</td>\n",
       "      <td>2001-11-27</td>\n",
       "      <td>1</td>\n",
       "      <td>0</td>\n",
       "      <td>0</td>\n",
       "      <td>0</td>\n",
       "      <td>0</td>\n",
       "    </tr>\n",
       "    <tr>\n",
       "      <th>124</th>\n",
       "      <td>1</td>\n",
       "      <td>1000</td>\n",
       "      <td>YOU HIT ME IN THE FACE!</td>\n",
       "      <td>In a battle between this talk show host's nose...</td>\n",
       "      <td>Geraldo Rivera</td>\n",
       "      <td>2001-11-28</td>\n",
       "      <td>1</td>\n",
       "      <td>0</td>\n",
       "      <td>0</td>\n",
       "      <td>0</td>\n",
       "      <td>0</td>\n",
       "    </tr>\n",
       "    <tr>\n",
       "      <th>134</th>\n",
       "      <td>2</td>\n",
       "      <td>1000</td>\n",
       "      <td>FICTIONAL CHARACTERS</td>\n",
       "      <td>He's the Winston Groom title character who had...</td>\n",
       "      <td>\\\"Forrest Gump\\\"</td>\n",
       "      <td>2001-11-28</td>\n",
       "      <td>1</td>\n",
       "      <td>0</td>\n",
       "      <td>0</td>\n",
       "      <td>1</td>\n",
       "      <td>0</td>\n",
       "    </tr>\n",
       "    <tr>\n",
       "      <th>...</th>\n",
       "      <td>...</td>\n",
       "      <td>...</td>\n",
       "      <td>...</td>\n",
       "      <td>...</td>\n",
       "      <td>...</td>\n",
       "      <td>...</td>\n",
       "      <td>...</td>\n",
       "      <td>...</td>\n",
       "      <td>...</td>\n",
       "      <td>...</td>\n",
       "      <td>...</td>\n",
       "    </tr>\n",
       "    <tr>\n",
       "      <th>174679</th>\n",
       "      <td>1</td>\n",
       "      <td>2000</td>\n",
       "      <td>COMPANY ADS &amp; SLOGANS</td>\n",
       "      <td>This bank was \"Established 1852. Re-establishe...</td>\n",
       "      <td>Wells Fargo</td>\n",
       "      <td>2019-07-23</td>\n",
       "      <td>1</td>\n",
       "      <td>0</td>\n",
       "      <td>0</td>\n",
       "      <td>0</td>\n",
       "      <td>0</td>\n",
       "    </tr>\n",
       "    <tr>\n",
       "      <th>174715</th>\n",
       "      <td>2</td>\n",
       "      <td>2000</td>\n",
       "      <td>STATE OF THE ART</td>\n",
       "      <td>The Crazy Horse memorial</td>\n",
       "      <td>South Dakota</td>\n",
       "      <td>2019-07-23</td>\n",
       "      <td>1</td>\n",
       "      <td>1</td>\n",
       "      <td>0</td>\n",
       "      <td>0</td>\n",
       "      <td>0</td>\n",
       "    </tr>\n",
       "    <tr>\n",
       "      <th>174762</th>\n",
       "      <td>2</td>\n",
       "      <td>2000</td>\n",
       "      <td>HISTORY BOOKS</td>\n",
       "      <td>A look at great historic clashes, Phlip Sabin'...</td>\n",
       "      <td>Marathon</td>\n",
       "      <td>2019-07-24</td>\n",
       "      <td>1</td>\n",
       "      <td>0</td>\n",
       "      <td>0</td>\n",
       "      <td>0</td>\n",
       "      <td>0</td>\n",
       "    </tr>\n",
       "    <tr>\n",
       "      <th>174778</th>\n",
       "      <td>1</td>\n",
       "      <td>1000</td>\n",
       "      <td>TV SPINOFFS</td>\n",
       "      <td>\\\"Torchwood\" was a spinoff of this British ser...</td>\n",
       "      <td>Doctor Who</td>\n",
       "      <td>2019-07-25</td>\n",
       "      <td>1</td>\n",
       "      <td>0</td>\n",
       "      <td>0</td>\n",
       "      <td>0</td>\n",
       "      <td>0</td>\n",
       "    </tr>\n",
       "    <tr>\n",
       "      <th>174837</th>\n",
       "      <td>1</td>\n",
       "      <td>1000</td>\n",
       "      <td>BEFORE &amp; AFTER: SINGERS &amp; WRITERS</td>\n",
       "      <td>\\\"Hit The Road Jack\" with the singer &amp; pianist...</td>\n",
       "      <td>Ray Charles Darwin</td>\n",
       "      <td>2019-07-26</td>\n",
       "      <td>1</td>\n",
       "      <td>0</td>\n",
       "      <td>0</td>\n",
       "      <td>0</td>\n",
       "      <td>0</td>\n",
       "    </tr>\n",
       "  </tbody>\n",
       "</table>\n",
       "<p>4622 rows × 11 columns</p>\n",
       "</div>"
      ],
      "text/plain": [
       "        round  value                           category  \\\n",
       "31          2   2000                    CLASSICAL MUSIC   \n",
       "60          1   1000                        THE SANDBOX   \n",
       "96          2   2000                      SEA CREATURES   \n",
       "124         1   1000            YOU HIT ME IN THE FACE!   \n",
       "134         2   1000               FICTIONAL CHARACTERS   \n",
       "...       ...    ...                                ...   \n",
       "174679      1   2000              COMPANY ADS & SLOGANS   \n",
       "174715      2   2000                   STATE OF THE ART   \n",
       "174762      2   2000                      HISTORY BOOKS   \n",
       "174778      1   1000                        TV SPINOFFS   \n",
       "174837      1   1000  BEFORE & AFTER: SINGERS & WRITERS   \n",
       "\n",
       "                                                     clue    correct_response  \\\n",
       "31      This Leoncavallo opera of 1892 has a Commedia ...           Pagliacci   \n",
       "60      This American won 2 Pulitzer Prizes: one for h...       Carl Sandburg   \n",
       "96         The 2 body parts the term cephalopod refers to         head & foot   \n",
       "124     In a battle between this talk show host's nose...      Geraldo Rivera   \n",
       "134     He's the Winston Groom title character who had...    \\\"Forrest Gump\\\"   \n",
       "...                                                   ...                 ...   \n",
       "174679  This bank was \"Established 1852. Re-establishe...         Wells Fargo   \n",
       "174715                           The Crazy Horse memorial        South Dakota   \n",
       "174762  A look at great historic clashes, Phlip Sabin'...            Marathon   \n",
       "174778  \\\"Torchwood\" was a spinoff of this British ser...          Doctor Who   \n",
       "174837  \\\"Hit The Road Jack\" with the singer & pianist...  Ray Charles Darwin   \n",
       "\n",
       "          air_date  is_daily_double  host_commented  is_irregular_value  \\\n",
       "31      2001-11-26                1               0                   0   \n",
       "60      2001-11-27                1               0                   0   \n",
       "96      2001-11-27                1               0                   0   \n",
       "124     2001-11-28                1               0                   0   \n",
       "134     2001-11-28                1               0                   0   \n",
       "...            ...              ...             ...                 ...   \n",
       "174679  2019-07-23                1               0                   0   \n",
       "174715  2019-07-23                1               1                   0   \n",
       "174762  2019-07-24                1               0                   0   \n",
       "174778  2019-07-25                1               0                   0   \n",
       "174837  2019-07-26                1               0                   0   \n",
       "\n",
       "        is_common_category  pred_is_daily_double  \n",
       "31                       1                     0  \n",
       "60                       0                     0  \n",
       "96                       0                     0  \n",
       "124                      0                     0  \n",
       "134                      1                     0  \n",
       "...                    ...                   ...  \n",
       "174679                   0                     0  \n",
       "174715                   0                     0  \n",
       "174762                   0                     0  \n",
       "174778                   0                     0  \n",
       "174837                   0                     0  \n",
       "\n",
       "[4622 rows x 11 columns]"
      ]
     },
     "execution_count": 18,
     "metadata": {},
     "output_type": "execute_result"
    }
   ],
   "source": [
    "df[df['pred_is_daily_double'] != df['is_daily_double']]"
   ]
  },
  {
   "cell_type": "markdown",
   "metadata": {},
   "source": [
    "## What did our model use in making predictions?"
   ]
  },
  {
   "cell_type": "code",
   "execution_count": 10,
   "metadata": {},
   "outputs": [],
   "source": [
    "coef_df = pd.DataFrame({\n",
    "    'features': features,\n",
    "    'coefficients': logreg.coef_[0]\n",
    "})"
   ]
  },
  {
   "cell_type": "code",
   "execution_count": 11,
   "metadata": {},
   "outputs": [
    {
     "data": {
      "text/html": [
       "<div>\n",
       "<style scoped>\n",
       "    .dataframe tbody tr th:only-of-type {\n",
       "        vertical-align: middle;\n",
       "    }\n",
       "\n",
       "    .dataframe tbody tr th {\n",
       "        vertical-align: top;\n",
       "    }\n",
       "\n",
       "    .dataframe thead th {\n",
       "        text-align: right;\n",
       "    }\n",
       "</style>\n",
       "<table border=\"1\" class=\"dataframe\">\n",
       "  <thead>\n",
       "    <tr style=\"text-align: right;\">\n",
       "      <th></th>\n",
       "      <th>features</th>\n",
       "      <th>coefficients</th>\n",
       "    </tr>\n",
       "  </thead>\n",
       "  <tbody>\n",
       "    <tr>\n",
       "      <th>0</th>\n",
       "      <td>round</td>\n",
       "      <td>-1.828799</td>\n",
       "    </tr>\n",
       "    <tr>\n",
       "      <th>1</th>\n",
       "      <td>value</td>\n",
       "      <td>0.002561</td>\n",
       "    </tr>\n",
       "    <tr>\n",
       "      <th>2</th>\n",
       "      <td>host_commented</td>\n",
       "      <td>-0.283460</td>\n",
       "    </tr>\n",
       "    <tr>\n",
       "      <th>3</th>\n",
       "      <td>is_irregular_value</td>\n",
       "      <td>5.665158</td>\n",
       "    </tr>\n",
       "    <tr>\n",
       "      <th>4</th>\n",
       "      <td>is_common_category</td>\n",
       "      <td>0.344973</td>\n",
       "    </tr>\n",
       "  </tbody>\n",
       "</table>\n",
       "</div>"
      ],
      "text/plain": [
       "             features  coefficients\n",
       "0               round     -1.828799\n",
       "1               value      0.002561\n",
       "2      host_commented     -0.283460\n",
       "3  is_irregular_value      5.665158\n",
       "4  is_common_category      0.344973"
      ]
     },
     "execution_count": 11,
     "metadata": {},
     "output_type": "execute_result"
    }
   ],
   "source": [
    "coef_df"
   ]
  }
 ],
 "metadata": {
  "kernelspec": {
   "display_name": "Python 3",
   "language": "python",
   "name": "python3"
  },
  "language_info": {
   "codemirror_mode": {
    "name": "ipython",
    "version": 3
   },
   "file_extension": ".py",
   "mimetype": "text/x-python",
   "name": "python",
   "nbconvert_exporter": "python",
   "pygments_lexer": "ipython3",
   "version": "3.7.6"
  }
 },
 "nbformat": 4,
 "nbformat_minor": 4
}
